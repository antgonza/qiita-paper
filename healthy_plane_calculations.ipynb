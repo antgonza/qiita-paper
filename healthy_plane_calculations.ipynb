{
 "cells": [
  {
   "cell_type": "code",
   "execution_count": 1,
   "metadata": {},
   "outputs": [],
   "source": [
    "from skbio.stats.ordination import OrdinationResults\n",
    "import pandas as pd\n",
    "import numpy as np\n",
    "from plane import point_to_segment_distance\n",
    "from itertools import product\n",
    "\n",
    "import seaborn as sns\n",
    "import matplotlib.pyplot as plt\n",
    "\n",
    "%matplotlib inline"
   ]
  },
  {
   "cell_type": "code",
   "execution_count": 2,
   "metadata": {},
   "outputs": [],
   "source": [
    "# clearning metadata from analysis\n",
    "metadata = pd.read_csv('15093_analysis_mapping.txt.gz', compression='gzip', sep='\\t', dtype=str)\n",
    "metadata.set_index('#SampleID', inplace=True)"
   ]
  },
  {
   "cell_type": "code",
   "execution_count": 3,
   "metadata": {},
   "outputs": [
    {
     "name": "stdout",
     "output_type": "stream",
     "text": [
      "(0.828031 x) + (0.357078 y) + (-1.000000 z) + (0.035064) \n"
     ]
    }
   ],
   "source": [
    "pcoa_fp = 'ordination.txt.gz'\n",
    "pcoa = OrdinationResults.read(pcoa_fp, compression='gzip')\n",
    "df = metadata.loc[pcoa.samples.index.tolist()]\n",
    "hc_ids = df[df.diagnosis_simple == 'HC'].index.tolist()\n",
    "xyz = pcoa.samples.loc[hc_ids].iloc[:,:3].copy()\n",
    "x = xyz.iloc[:, 0].values\n",
    "y = xyz.iloc[:, 1].values\n",
    "z = xyz.iloc[:, 2].values\n",
    "A = np.column_stack([x, y, np.ones_like(x)])\n",
    "abd, residuals, rank, s = np.linalg.lstsq(A, z)\n",
    "abcd = np.insert(abd, 2, -1)\n",
    "print ('(%f x) + (%f y) + (%f z) + (%f) ' % tuple(abcd))\n",
    "col_name = 'distance_to_plane'\n",
    "metadata[col_name] = np.nan\n",
    "for sid, row in pcoa.samples.iterrows():\n",
    "    deest = point_to_segment_distance(\n",
    "            abcd, row[:3].tolist(), np.array([row.tolist() for _, row in xyz.iterrows()]))\n",
    "    metadata.at[sid, col_name] = str(deest)\n",
    "\n",
    "metadata['distance_to_plane'] = pd.to_numeric(metadata['distance_to_plane'])"
   ]
  },
  {
   "cell_type": "code",
   "execution_count": 4,
   "metadata": {
    "scrolled": true
   },
   "outputs": [
    {
     "data": {
      "image/png": "[encoded data removed]",
      "text/plain": [
       "<matplotlib.figure.Figure at 0x116263f28>"
      ]
     },
     "metadata": {},
     "output_type": "display_data"
    }
   ],
   "source": [
    "fig, axs = plt.subplots(figsize=(10, 5))\n",
    "sns.set_context(\"paper\")\n",
    "sns.set_style(\"whitegrid\")\n",
    "sns.set(font_scale=1.2)\n",
    "\n",
    "sns.boxplot(x='diagnosis_simple', y='distance_to_plane', data=metadata, \n",
    "            order=['HC', 'CCD', 'UC', 'ICD_nr', 'IC', 'CD', 'ICD_r', 'pre FMT', 'post FMT'],\n",
    "            linewidth=1, ax=axs)\n",
    "axs.set(title = 'Distances to Healthy Plane', ylabel='Unweighted UniFrac Distance', xlabel=\"\")\n",
    "fig.savefig(\"dianosis_simpe.pdf\")"
   ]
  },
  {
   "cell_type": "code",
   "execution_count": null,
   "metadata": {},
   "outputs": [],
   "source": []
  }
 ],
 "metadata": {
  "kernelspec": {
   "display_name": "Python 3",
   "language": "python",
   "name": "python3"
  },
  "language_info": {
   "codemirror_mode": {
    "name": "ipython",
    "version": 3
   },
   "file_extension": ".py",
   "mimetype": "text/x-python",
   "name": "python",
   "nbconvert_exporter": "python",
   "pygments_lexer": "ipython3",
   "version": "3.5.2"
  }
 },
 "nbformat": 4,
 "nbformat_minor": 2
}
